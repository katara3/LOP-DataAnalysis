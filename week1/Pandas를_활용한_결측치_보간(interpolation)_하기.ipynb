{
  "nbformat": 4,
  "nbformat_minor": 0,
  "metadata": {
    "colab": {
      "name": "Pandas를 활용한 결측치 보간(interpolation) 하기.ipynb",
      "provenance": [],
      "collapsed_sections": []
    },
    "kernelspec": {
      "name": "python3",
      "display_name": "Python 3"
    }
  },
  "cells": [
    {
      "cell_type": "code",
      "metadata": {
        "id": "o5iF9VjsQs1u",
        "colab_type": "code",
        "colab": {}
      },
      "source": [
        "import numpy  as np\n",
        "import pandas as pd\n",
        "import scipy.stats as stats\n",
        "import matplotlib.pyplot as plt\n",
        "import math\n",
        "import warnings"
      ],
      "execution_count": 2,
      "outputs": []
    },
    {
      "cell_type": "code",
      "metadata": {
        "id": "BfErrUXIQ741",
        "colab_type": "code",
        "colab": {}
      },
      "source": [
        "warnings.filterwarnings('ignore')\n",
        "%matplotlib inline"
      ],
      "execution_count": 7,
      "outputs": []
    },
    {
      "cell_type": "code",
      "metadata": {
        "id": "bw6PIaE1RVvr",
        "colab_type": "code",
        "colab": {
          "base_uri": "https://localhost:8080/",
          "height": 265
        },
        "outputId": "82f33391-06b7-45ac-9603-a179f248fd34"
      },
      "source": [
        "# 평균\n",
        "mu = 0\n",
        "#분산\n",
        "variance = 1\n",
        "# sigma (Standard Deviation 계산)\n",
        "sigma = math.sqrt(variance)\n",
        "x = np.linspace(mu - 3*sigma, mu + 3*sigma, 100)\n",
        "\n",
        "# 랜덤한 10개의 데이터를 삭제 (NaN을 삽입하여 null 값으로 만들기)\n",
        "idx = np.random.choice(len(x), size=10)\n",
        "x[idx] = np.nan\n",
        "\n",
        "# 시각화\n",
        "plt.plot(x, stats.norm.pdf(x, mu, sigma))\n",
        "plt.show()"
      ],
      "execution_count": 10,
      "outputs": [
        {
          "output_type": "display_data",
          "data": {
            "image/png": "[encoded data removed]",
            "text/plain": [
              "<Figure size 432x288 with 1 Axes>"
            ]
          },
          "metadata": {
            "tags": [],
            "needs_background": "light"
          }
        }
      ]
    },
    {
      "cell_type": "code",
      "metadata": {
        "id": "o5AdLuD7Scgk",
        "colab_type": "code",
        "colab": {
          "base_uri": "https://localhost:8080/",
          "height": 35
        },
        "outputId": "e27ebaa6-7af9-48a8-c691-32370a6fb7f8"
      },
      "source": [
        "pd.Series(x).isnull().sum()"
      ],
      "execution_count": 11,
      "outputs": [
        {
          "output_type": "execute_result",
          "data": {
            "text/plain": [
              "10"
            ]
          },
          "metadata": {
            "tags": []
          },
          "execution_count": 11
        }
      ]
    },
    {
      "cell_type": "code",
      "metadata": {
        "id": "SPdn5NbCTcoV",
        "colab_type": "code",
        "colab": {
          "base_uri": "https://localhost:8080/",
          "height": 233
        },
        "outputId": "fd39c9d8-f2ba-4cd9-e6c9-3b54538baa2d"
      },
      "source": [
        "pd.Series(x).head(100)"
      ],
      "execution_count": 14,
      "outputs": [
        {
          "output_type": "execute_result",
          "data": {
            "text/plain": [
              "0    -3.000000\n",
              "1    -2.939394\n",
              "2          NaN\n",
              "3    -2.818182\n",
              "4    -2.757576\n",
              "        ...   \n",
              "95    2.757576\n",
              "96    2.818182\n",
              "97    2.878788\n",
              "98    2.939394\n",
              "99         NaN\n",
              "Length: 100, dtype: float64"
            ]
          },
          "metadata": {
            "tags": []
          },
          "execution_count": 14
        }
      ]
    },
    {
      "cell_type": "markdown",
      "metadata": {
        "id": "q8FEM-N9UFqV",
        "colab_type": "text"
      },
      "source": [
        "### 보간 (Interpolation)을 활용한 결측치 대입"
      ]
    },
    {
      "cell_type": "code",
      "metadata": {
        "id": "vV3MurtMUDr6",
        "colab_type": "code",
        "colab": {}
      },
      "source": [
        "x_inter = pd.Series(x).interpolate()"
      ],
      "execution_count": 16,
      "outputs": []
    },
    {
      "cell_type": "code",
      "metadata": {
        "id": "zunKe44qUivS",
        "colab_type": "code",
        "colab": {
          "base_uri": "https://localhost:8080/",
          "height": 395
        },
        "outputId": "81adc5a6-0da0-4975-e07f-3d338c122421"
      },
      "source": [
        "x_inter.head(20)"
      ],
      "execution_count": 17,
      "outputs": [
        {
          "output_type": "execute_result",
          "data": {
            "text/plain": [
              "0    -3.000000\n",
              "1    -2.939394\n",
              "2    -2.878788\n",
              "3    -2.818182\n",
              "4    -2.757576\n",
              "5    -2.696970\n",
              "6    -2.636364\n",
              "7    -2.575758\n",
              "8    -2.515152\n",
              "9    -2.454545\n",
              "10   -2.393939\n",
              "11   -2.333333\n",
              "12   -2.272727\n",
              "13   -2.212121\n",
              "14   -2.151515\n",
              "15   -2.090909\n",
              "16   -2.030303\n",
              "17   -1.969697\n",
              "18   -1.909091\n",
              "19   -1.848485\n",
              "dtype: float64"
            ]
          },
          "metadata": {
            "tags": []
          },
          "execution_count": 17
        }
      ]
    },
    {
      "cell_type": "code",
      "metadata": {
        "id": "lJbrzUD9UlQh",
        "colab_type": "code",
        "colab": {
          "base_uri": "https://localhost:8080/",
          "height": 265
        },
        "outputId": "1e1250e0-4801-4aa5-c093-14197f698421"
      },
      "source": [
        "plt.plot(x_inter, stats.norm.pdf(x_inter, mu, sigma))\n",
        "plt.show()"
      ],
      "execution_count": 18,
      "outputs": [
        {
          "output_type": "display_data",
          "data": {
            "image/png": "[encoded data removed]",
            "text/plain": [
              "<Figure size 432x288 with 1 Axes>"
            ]
          },
          "metadata": {
            "tags": [],
            "needs_background": "light"
          }
        }
      ]
    },
    {
      "cell_type": "code",
      "metadata": {
        "id": "bJdQcuSWUwg2",
        "colab_type": "code",
        "colab": {}
      },
      "source": [
        ""
      ],
      "execution_count": null,
      "outputs": []
    }
  ]
}